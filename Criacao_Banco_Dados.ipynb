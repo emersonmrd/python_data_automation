{
 "cells": [
  {
   "cell_type": "code",
   "execution_count": 11,
   "metadata": {},
   "outputs": [],
   "source": [
    "# Lib\n",
    "import sqlite3\n",
    "\n",
    "# Criar um banco de dados \n",
    "conexao = sqlite3.connect('Banco_Dados.db')\n",
    "\n",
    "# Apontar\n",
    "cursor = conexao.cursor()"
   ]
  },
  {
   "cell_type": "code",
   "execution_count": 12,
   "metadata": {},
   "outputs": [],
   "source": [
    "# Criar uma tabela\n",
    "\n",
    "query = ''' \n",
    "\n",
    "CREATE TABLE Tabela_Processamento (\n",
    "    id_rotina TEXT,\n",
    "    nome_rotina TEXT,\n",
    "    usuario TEXT,\n",
    "    maquina TEXT,\n",
    "    sistema_operacional TEXT,\n",
    "    data_inicio TEXT,\n",
    "    horario_inicio TEXT,\n",
    "    teste_conexao TEXT,\n",
    "    ip_local TEXT,\n",
    "    data_termino TEXT,\n",
    "    horario_termino TEXT,\n",
    "    tempo_execucao TEXT,\n",
    "    erro TEXT\n",
    ")\n",
    "\n",
    "'''\n",
    "\n",
    "# Executor\n",
    "cursor.execute(query)\n",
    "conexao.commit()"
   ]
  },
  {
   "cell_type": "code",
   "execution_count": 13,
   "metadata": {},
   "outputs": [],
   "source": [
    "# Fecha a conexão \n",
    "conexao.close()"
   ]
  }
 ],
 "metadata": {
  "kernelspec": {
   "display_name": "base",
   "language": "python",
   "name": "python3"
  },
  "language_info": {
   "codemirror_mode": {
    "name": "ipython",
    "version": 3
   },
   "file_extension": ".py",
   "mimetype": "text/x-python",
   "name": "python",
   "nbconvert_exporter": "python",
   "pygments_lexer": "ipython3",
   "version": "3.12.3"
  }
 },
 "nbformat": 4,
 "nbformat_minor": 2
}
